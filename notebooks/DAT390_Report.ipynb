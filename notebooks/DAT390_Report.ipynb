{
 "cells": [
  {
   "cell_type": "markdown",
   "metadata": {},
   "source": [
    "# Introduction"
   ]
  },
  {
   "cell_type": "markdown",
   "metadata": {},
   "source": [
    "- Why is delineation of tumours important?\n",
    "- How is delineation done today?\n",
    "- What uncertainties are involved?\n",
    "- CNNs for auto-delineation of tumours\n",
    "- Propose solution - goal"
   ]
  },
  {
   "cell_type": "markdown",
   "metadata": {},
   "source": [
    "This report will define a software requirement specification (SRS) of a keras-based framework for automatic delineation of cancer tumours. In addition, the progress of the development based on the SRS and current results are also included."
   ]
  },
  {
   "cell_type": "markdown",
   "metadata": {},
   "source": [
    "# Theory and Definition"
   ]
  },
  {
   "cell_type": "markdown",
   "metadata": {},
   "source": [
    "## Convolution Neural Network"
   ]
  },
  {
   "cell_type": "markdown",
   "metadata": {},
   "source": [
    "- Define CNN here\n",
    "- Remember to mention:\n",
    "  - Model\n",
    "  - Layers\n",
    "  - Briefly describe CONV, how does it apply to image\n",
    "  - Activation function\n",
    "  - Loss\n",
    "  - Optimizer\n",
    "  - Scheduler?"
   ]
  },
  {
   "cell_type": "markdown",
   "metadata": {},
   "source": [
    "## Sequential Model"
   ]
  },
  {
   "cell_type": "markdown",
   "metadata": {},
   "source": [
    "## U-Net Architecture"
   ]
  },
  {
   "cell_type": "markdown",
   "metadata": {},
   "source": [
    "# Software"
   ]
  },
  {
   "cell_type": "markdown",
   "metadata": {},
   "source": [
    "## Software Requirement Specification\n",
    "\n",
    "The development of the resulted framework, named *deoxys*, has the goal of providing the users the ability to run multiple experiments of different CNN models and then choose the best model for final prediction. This framework should be specialized in deep-learning in medical images, especially in auto-delineation of cancer tumour. Because of that, it should integrate u-net architecture and image preprocessing modules, as well as logging tools and performance visualization tools when running experiments.\n",
    "\n",
    "In order to reach the goal of the development, this framework should satisfy the following user and system requirements:"
   ]
  },
  {
   "cell_type": "markdown",
   "metadata": {},
   "source": [
    "### User Requirement Specification"
   ]
  },
  {
   "cell_type": "markdown",
   "metadata": {},
   "source": [
    "Users are referring to master students, PhD candidates, researchers and anyone who wants to use deep-learning on automatic delineation of cancer tumors.\n",
    "This framework is targeted to the users with basic programming knowledge, including the usage of JSON data structure, and with the knowledge of deep learning, especially in convolution neural network. Basic programming knowledge is including but not limited to object oriented programming in python, other python library such as matplotlib, keras, h5py."
   ]
  },
  {
   "cell_type": "markdown",
   "metadata": {},
   "source": [
    "With the help of *deoxys*, users shall have the ability to perform multiple CNN experiments by creating configuration JSON files. Users can define their own sequential or u-net model with the choices of layers, loss functions, optimizers, metrics and many other hyper-parameters. In addition, users can choose how to split the data for training, validation and testing. Each experiment includes training the data, logging the performance and evaluation of trained model on test data. All trained models can be saved to disk and loaded back for continuation of training or any other purposes."
   ]
  },
  {
   "cell_type": "markdown",
   "metadata": {},
   "source": [
    "As a follow-up after running an experiment, users can also check the predicted outputs as delineated images in comparison with the original image and and view the performance graphs of the trained model."
   ]
  },
  {
   "cell_type": "markdown",
   "metadata": {},
   "source": [
    "Users with advanced programming knowledge can also customize and create their own model architecture, layers, activation functions, loss functions, optimizers, metrics, etc..."
   ]
  },
  {
   "cell_type": "markdown",
   "metadata": {},
   "source": [
    "### Use cases"
   ]
  },
  {
   "cell_type": "markdown",
   "metadata": {},
   "source": [
    "Main use cases:\n",
    "- Setup experiment using JSON config to run and evaluate experiment\n",
    "- Load and save trained model from and to disk\n",
    "- Create customize objects / elements for the experiment. This includes: Layers, Activation functions, Loss functions, Optimizers, Callbacks"
   ]
  },
  {
   "cell_type": "markdown",
   "metadata": {},
   "source": [
    "#### Use case diagram"
   ]
  },
  {
   "cell_type": "markdown",
   "metadata": {},
   "source": [
    "Draw diagram here"
   ]
  },
  {
   "cell_type": "markdown",
   "metadata": {},
   "source": [
    "#### Use case 01: Set up experiments using JSON config"
   ]
  },
  {
   "cell_type": "markdown",
   "metadata": {},
   "source": [
    "|User|System|\n",
    "|-----------|------------|\n",
    "|Step 1: Choose the suitable parameters for the choice of architecture and training||\n",
    "|Step 2: Create JSON files to configure the experiment|  |\n",
    "|Step 3: Create a run experiment script and run| Base on the configured parameters, the framework train the model, then test and log performance to files |\n",
    "|Step 4: View the output from files or diagram (depending on the configuration)| |"
   ]
  },
  {
   "cell_type": "markdown",
   "metadata": {},
   "source": [
    "#### Use case 02: Load and save trained model from and to disk"
   ]
  },
  {
   "cell_type": "markdown",
   "metadata": {},
   "source": [
    "Prerequistics:\n",
    "Users has a pretrain model hdf5 file.\n",
    "\n",
    "|User|System|\n",
    "|-----------|------------|\n",
    "|Step 1: Create a run experiment script and run with the model hdf5 filepath as a paramter||\n",
    "|Step 2: Create a run experiment script and run| Base on the configured parameters, the framework train the model, then test and log performance to files |\n",
    "|Step 3: View the output from files or diagram (depending on the configuration)| |"
   ]
  },
  {
   "cell_type": "markdown",
   "metadata": {},
   "source": [
    "#### Use case 03: Create customize objects / elements for the experiment."
   ]
  },
  {
   "cell_type": "markdown",
   "metadata": {},
   "source": [
    "|User|System|\n",
    "|-----------|------------|\n",
    "|Step 1: Create new customized objects||\n",
    "|Step 2: Register the created objects to the framework| Check for validity of the object, raise an exception if the object is failed to register |\n",
    "|Step 3: Create an experiment using the newly create objects| Perform the experiment without error using the new objects |\n",
    "|Step 4: View the output from files or diagram (depending on the configuration)| |"
   ]
  },
  {
   "cell_type": "markdown",
   "metadata": {},
   "source": [
    "### System Requirement Specification"
   ]
  },
  {
   "cell_type": "markdown",
   "metadata": {},
   "source": [
    "#### Usability"
   ]
  },
  {
   "cell_type": "markdown",
   "metadata": {},
   "source": [
    "The *deoxys* framework should be easy to install, learn and use. The expected training and learning time for a user to use this framework effectively should not take more than 40 hours. For this reason, this framework should have a detailed documentation of installation guide and usage of each class, function and property. It should also provide sample code snippets which can be applied to the defined use cases."
   ]
  },
  {
   "cell_type": "markdown",
   "metadata": {},
   "source": [
    "#### Reliability"
   ]
  },
  {
   "cell_type": "markdown",
   "metadata": {},
   "source": [
    "The output generated when running code from *deoxys* framework should have the behaviors as documented. In addition, the unexpected error rate should be under 5% and at least 80% of code lines should have been tested before release."
   ]
  },
  {
   "cell_type": "markdown",
   "metadata": {},
   "source": [
    "#### Flexibility"
   ]
  },
  {
   "cell_type": "markdown",
   "metadata": {},
   "source": [
    "User should be able to customize and create new components to integrate in *deoxys* framework."
   ]
  },
  {
   "cell_type": "markdown",
   "metadata": {},
   "source": [
    "#### Maintainability"
   ]
  },
  {
   "cell_type": "markdown",
   "metadata": {},
   "source": [
    "The *deoxys* framework should be easy to maintain. Therefore, it should be divided into separated modules. Moreover, all of the source code should follow the PEP8 coding convention. Also, this framework should log all actions in different versions and issues from the users.\n",
    "\n",
    "Maintaining the framework includes fixing bugs, handling issues, updating and adding new features. The maintaining activities should last at least until May 2020."
   ]
  },
  {
   "cell_type": "markdown",
   "metadata": {},
   "source": [
    "#### Portability"
   ]
  },
  {
   "cell_type": "markdown",
   "metadata": {},
   "source": [
    "The *deoxys* framework should work properly when the following hardware requirements and environment are satisfied:\n",
    "\n",
    "- System memory: at least 8GB with GPU or 13GB without GPU\n",
    "- Python version: at least 3.7"
   ]
  },
  {
   "cell_type": "markdown",
   "metadata": {},
   "source": [
    "## Designs"
   ]
  },
  {
   "cell_type": "markdown",
   "metadata": {},
   "source": [
    "### Overview"
   ]
  },
  {
   "cell_type": "markdown",
   "metadata": {},
   "source": [
    "Before development, the designs of the framework have to be considered.\n",
    "\n",
    "The first things to concern are the usability and maintainability of the framework. As stated, in the previous sessions, all source code shall follow PEP8 coding convention. Pydoc will be used as the tool of documentation. In addition, git is used as a tool to handle logging and version management. All source code should be available in github.com/huynhngoc/deoxys.\n",
    "\n",
    "Implementation all layers and other components in convolution neural network within one-semester time is impossible. Therefore, keras is used as a based library, as it contains implemented layers, activation functions, optimizers and other components in CNN. Also, keras is compatible with tensorflow 1.x, 2.x, which is a very powerful backend tool in deep-learning, as well as other backend suchs as Theano, etc...\n",
    "\n",
    "Finally, this report suggests that the framework should have the following modules:\n",
    "- Models: contains a wrapper of a keras model. Other keras objects such as optimizers, activation functions.. are also included.\n",
    "- Infrastructure and configuration loader\n",
    "- Data reader: Since the target of this framework are medical images, the input data are often large in size and usually cannot fit into the computer memory. In order to avoid out of memory errors, this module should contain a data generator that split image data into smaller batches that can fit into the memory when training the model.\n",
    "- Experiment:"
   ]
  },
  {
   "cell_type": "markdown",
   "metadata": {},
   "source": [
    "- Using keras, why?\n",
    "  - Implemented layers, activation function, optimizers ...\n",
    "  - Compability with tensorflow 1.x, 2+, multiple backend\n",
    "- Coding convention:\n",
    "  - PEP8\n",
    "  - pydoc\n",
    "- Structure\n",
    "  - Model:\n",
    "  - Infrastructure / config loader\n",
    "  - Data reader:\n",
    "     - Generators: why need it (batching data)\n",
    "     - Preprocessors\n",
    "  - experiment:\n",
    "     - Single: logging and performance and plot result\n",
    "     - Multi: choose best model\n",
    "     \n",
    "     Explain why i use this structure"
   ]
  },
  {
   "cell_type": "markdown",
   "metadata": {},
   "source": [
    "#### Structure diagram\n",
    "Draw the main structure here"
   ]
  },
  {
   "cell_type": "markdown",
   "metadata": {},
   "source": [
    "### Model"
   ]
  },
  {
   "cell_type": "markdown",
   "metadata": {},
   "source": [
    "Wrapper of a keras model, where all parameter at set\n",
    "(Explain what it does, then expose the main api)"
   ]
  },
  {
   "cell_type": "markdown",
   "metadata": {},
   "source": [
    "### Infrastructure"
   ]
  },
  {
   "cell_type": "markdown",
   "metadata": {},
   "source": [
    "#### Sequential"
   ]
  },
  {
   "cell_type": "markdown",
   "metadata": {},
   "source": [
    "#### Unet"
   ]
  },
  {
   "cell_type": "markdown",
   "metadata": {},
   "source": [
    "#### Dense"
   ]
  },
  {
   "cell_type": "markdown",
   "metadata": {},
   "source": [
    "### Data"
   ]
  },
  {
   "cell_type": "markdown",
   "metadata": {},
   "source": [
    "#### HDF5 Data Reader"
   ]
  },
  {
   "cell_type": "markdown",
   "metadata": {},
   "source": [
    "- What is h5?\n",
    "- How it process h5?\n",
    "  - Split to multiple folds (use for k-fold validation, should be reference to somewhere else in this report)\n",
    "  - train - val - test\n",
    "- Why generators are needed\n",
    "- Preprocessors:\n",
    "  - Usage"
   ]
  },
  {
   "cell_type": "markdown",
   "metadata": {},
   "source": [
    "### Configuration\n"
   ]
  },
  {
   "cell_type": "markdown",
   "metadata": {},
   "source": [
    "- Explain the json structure, note the require keywords\n",
    "- Why it's easy to setup experiment\n",
    "- Example of setting up experiment"
   ]
  },
  {
   "cell_type": "markdown",
   "metadata": {},
   "source": [
    "# Results"
   ]
  },
  {
   "cell_type": "markdown",
   "metadata": {},
   "source": [
    "## Implementation progress\n",
    "\n",
    "- Completed modules\n",
    "- On-going modules\n",
    "- Not implemented modules"
   ]
  },
  {
   "cell_type": "markdown",
   "metadata": {},
   "source": [
    "## Run on test data"
   ]
  },
  {
   "cell_type": "markdown",
   "metadata": {},
   "source": [
    "The data from Oslo University hospital is used for running a test experiment. The model parameters are taken from Yngve Mardal Moe's master thesis (\\cite{}) and run the training set with only 3000 slices of images.\n",
    "\n",
    "The result was amazing as the dice is about 0.5 (graph, output log). "
   ]
  },
  {
   "cell_type": "markdown",
   "metadata": {},
   "source": [
    "- Choice of data\n",
    "- Expected result\n",
    "- Actual result"
   ]
  },
  {
   "cell_type": "markdown",
   "metadata": {},
   "source": [
    "# Discussions"
   ]
  },
  {
   "cell_type": "markdown",
   "metadata": {},
   "source": [
    "- Advantages:\n",
    "- Disadvantages:\n",
    "- Improvement:\n",
    "  - What should be added more (Preprocessor, Callbacks, ....)\n",
    "  - Auto-generate config tool (web-base)\n",
    "  - Back-propagation implementation based on implemented model\n",
    "  - Visualize progress of training / prediction\n",
    "  - Datagenerator as sequential model for multiprocessing"
   ]
  },
  {
   "cell_type": "markdown",
   "metadata": {},
   "source": [
    "**Reference List**"
   ]
  },
  {
   "cell_type": "markdown",
   "metadata": {},
   "source": [
    "- M Jameson, L Holloway, P Vial, S Vinod, P Metcalfe. 2010. A review of methods of analysis in contouring studies for radiation oncology. Journal of Medical Imaging and Radiation Oncology 54:401-410. Note: Understand the basics for your introduction:\n",
    "\n",
    "\"There is no consistent or widely accepted method of\n",
    "systematic contour comparison. A number of contouring\n",
    "metrics exist; some of which are available in treatment\n",
    "planning systems and others require specialised software. \"\n",
    "\n",
    "\"Volume was the most frequently used metric\n",
    "across all tumour sites. Shape/dimension was the next\n",
    "most frequently used metric in all tumour sites except for\n",
    "brain and head and neck, where COV and CI were the\n",
    "next most frequent metrics, respectively\"\n",
    "\n",
    "\"the choice of metrics in many studies is\n",
    "somewhat arbitrary and not determined on any established clinical basis. Further studies are needed to assess\n",
    "the advantages and disadvantages of each metric in\n",
    "various situations\""
   ]
  },
  {
   "cell_type": "markdown",
   "metadata": {},
   "source": [
    "- C Njeh. 2008. Tumor delineation: The weakest link in the search for accuracy in radiotherapy. Journal of Medical Physics 33:136-140. Note: Understand the basics for your introduction [link](https://www.ncbi.nlm.nih.gov/pmc/articles/PMC2772050/)\n",
    "\n",
    "Use Figure 1: Some of the steps in radiotherapy that can be represented by links in a chain; treatment accuracy will be limited by the weakest link in the chain\"\n",
    "\n",
    "Use Figure 3\n",
    "Illustration of the effect of high conformal radiation therapy and geometric miss due to delineation\n",
    "\n",
    "\"It is evident that tumor delineation is currently the weakest link in radiotherapy accuracy and will continue to have a significant impact until improvement in tumor delineation is achieved. With the advancement of computer programming and imaging technology, especially functional imaging using PET, there is a possibility of converging and making tumor identification and definition less subjective and less observer-dependent.\"\n"
   ]
  },
  {
   "cell_type": "code",
   "execution_count": 1,
   "metadata": {},
   "outputs": [
    {
     "name": "stderr",
     "output_type": "stream",
     "text": [
      "C:\\Users\\admin\\Anaconda3\\envs\\deoxys\\lib\\site-packages\\IPython\\nbformat.py:13: ShimWarning: The `IPython.nbformat` package has been deprecated since IPython 4.0. You should import from nbformat instead.\n",
      "  \"You should import from nbformat instead.\", ShimWarning)\n",
      "C:\\Users\\admin\\Anaconda3\\envs\\deoxys\\lib\\site-packages\\nbformat\\current.py:19: UserWarning: nbformat.current is deprecated.\n",
      "\n",
      "- use nbformat for read/write/validate public API\n",
      "- use nbformat.vX directly to composing notebooks of a particular version\n",
      "\n",
      "  \"\"\")\n"
     ]
    },
    {
     "name": "stdout",
     "output_type": "stream",
     "text": [
      "1312\n"
     ]
    }
   ],
   "source": [
    "import io\n",
    "from IPython.nbformat import current\n",
    "\n",
    "with io.open('DAT390_Report.ipynb', 'r', encoding='utf-8') as f:\n",
    "    nb = current.read(f, 'json')\n",
    "\n",
    "word_count = 0\n",
    "for cell in nb.worksheets[0].cells:\n",
    "    if cell.cell_type == \"markdown\":\n",
    "        word_count += len(cell['source'].replace('#', '').lstrip().split(' '))\n",
    "print(word_count)"
   ]
  },
  {
   "cell_type": "code",
   "execution_count": null,
   "metadata": {},
   "outputs": [],
   "source": []
  }
 ],
 "metadata": {
  "kernelspec": {
   "display_name": "Python 3",
   "language": "python",
   "name": "python3"
  },
  "language_info": {
   "codemirror_mode": {
    "name": "ipython",
    "version": 3
   },
   "file_extension": ".py",
   "mimetype": "text/x-python",
   "name": "python",
   "nbconvert_exporter": "python",
   "pygments_lexer": "ipython3",
   "version": "3.7.4"
  }
 },
 "nbformat": 4,
 "nbformat_minor": 2
}
